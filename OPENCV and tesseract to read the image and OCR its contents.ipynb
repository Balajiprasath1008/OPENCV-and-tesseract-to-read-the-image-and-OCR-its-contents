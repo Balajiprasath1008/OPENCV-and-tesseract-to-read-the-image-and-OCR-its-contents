{
 "cells": [
  {
   "cell_type": "markdown",
   "id": "416880b0",
   "metadata": {},
   "source": [
    "#### Library Used"
   ]
  },
  {
   "cell_type": "code",
   "execution_count": 1,
   "id": "d2c3cc4d",
   "metadata": {},
   "outputs": [],
   "source": [
    "import cv2\n",
    "import numpy as np\n",
    "import pandas as pd\n",
    "import pytesseract\n",
    "import random\n",
    "import os"
   ]
  },
  {
   "cell_type": "markdown",
   "id": "66bf97b6",
   "metadata": {},
   "source": [
    "imported os for the directories"
   ]
  },
  {
   "cell_type": "code",
   "execution_count": 2,
   "id": "5d813ea7",
   "metadata": {},
   "outputs": [],
   "source": [
    "pytesseract.pytesseract.tesseract_cmd ='C:\\\\Program Files\\\\Tesseract-OCR\\\\tesseract.exe'"
   ]
  },
  {
   "cell_type": "raw",
   "id": "b7684362",
   "metadata": {},
   "source": [
    "# importing path for the pytesseract"
   ]
  },
  {
   "cell_type": "markdown",
   "id": "2c8bd197",
   "metadata": {},
   "source": [
    "#### Importing image"
   ]
  },
  {
   "cell_type": "code",
   "execution_count": 3,
   "id": "73ba615c",
   "metadata": {},
   "outputs": [],
   "source": [
    "# Reading image for test \n",
    "\n",
    "imgTest = cv2.imread('cheque-sample.jpg')\n",
    "\n",
    "# Reference Reference image\n",
    "\n",
    "imgRef = cv2.imread('cheque-sample.jpg')"
   ]
  },
  {
   "cell_type": "markdown",
   "id": "3e791234",
   "metadata": {},
   "source": [
    "#### Display Image"
   ]
  },
  {
   "cell_type": "code",
   "execution_count": 4,
   "id": "e206af73",
   "metadata": {},
   "outputs": [],
   "source": [
    "cv2.imshow('Test image',imgTest)\n",
    "cv2.imshow('Refrence Image',imgRef)\n",
    "cv2.waitKey(0)\n",
    "cv2.destroyAllWindows()"
   ]
  },
  {
   "cell_type": "raw",
   "id": "2eec74fb",
   "metadata": {},
   "source": [
    "waitkey is used to add delay when we needed\n",
    "destroyAllWindows will close the opended image when key pressed"
   ]
  },
  {
   "cell_type": "markdown",
   "id": "86e45aeb",
   "metadata": {},
   "source": [
    "#### Display Dimension of image"
   ]
  },
  {
   "cell_type": "code",
   "execution_count": 5,
   "id": "f155f4f3",
   "metadata": {},
   "outputs": [
    {
     "name": "stdout",
     "output_type": "stream",
     "text": [
      "Height of Image  : 2292\n",
      "Width of Image   : 1192\n",
      "Channel of Image : 3 RGB\n"
     ]
    }
   ],
   "source": [
    "print('Height of Image  :',imgTest.shape[0])\n",
    "print('Width of Image   :',imgTest.shape[1])\n",
    "print('Channel of Image :',imgTest.shape[2],'RGB')"
   ]
  },
  {
   "cell_type": "markdown",
   "id": "2494fcab",
   "metadata": {},
   "source": [
    "#### Resizing the image for viewing purpose"
   ]
  },
  {
   "cell_type": "code",
   "execution_count": 6,
   "id": "2a175d93",
   "metadata": {},
   "outputs": [],
   "source": [
    "h,w,c   = imgTest.shape\n",
    "imgTest = cv2.resize(imgTest,(w//3,h//3))\n",
    "\n",
    "H,W,C   = imgRef.shape\n",
    "imgRef = cv2.resize(imgRef,(W//3,H//3))\n",
    "\n",
    "# Now the image has been resized for our refrence purpose\n",
    "\n",
    "cv2.imshow('Test image',imgTest)\n",
    "cv2.imshow('Refrence Image',imgRef)\n",
    "cv2.waitKey(0)\n",
    "cv2.destroyAllWindows()"
   ]
  },
  {
   "cell_type": "markdown",
   "id": "5cf07d35",
   "metadata": {},
   "source": [
    "#### Convert to Greyscale"
   ]
  },
  {
   "cell_type": "code",
   "execution_count": 7,
   "id": "635a936a",
   "metadata": {},
   "outputs": [],
   "source": [
    "imgTest_grey = cv2.cvtColor(imgTest, cv2.COLOR_BGR2GRAY)\n",
    "\n",
    "imgRef_grey = cv2.cvtColor(imgRef, cv2.COLOR_BGR2GRAY)\n",
    "\n",
    "cv2.imshow('Test image grey',imgTest_grey)\n",
    "cv2.imshow('Refrence Image grey',imgRef_grey)\n",
    "cv2.waitKey(0)\n",
    "cv2.destroyAllWindows()"
   ]
  },
  {
   "cell_type": "markdown",
   "id": "e0206550",
   "metadata": {},
   "source": [
    "#### Data Pre-Processing using Open CV"
   ]
  },
  {
   "cell_type": "raw",
   "id": "f53e6b8b",
   "metadata": {},
   "source": [
    "# It invloves splitting the original images into individual images based on the Bank cheque"
   ]
  },
  {
   "cell_type": "markdown",
   "id": "3fbb5881",
   "metadata": {},
   "source": [
    "##### Syndicate Bank"
   ]
  },
  {
   "cell_type": "code",
   "execution_count": 20,
   "id": "77c34eb4",
   "metadata": {},
   "outputs": [],
   "source": [
    "img = cv2.imread(\"cheque-sample.jpg\")\n",
    "y=0\n",
    "x=0\n",
    "h=500\n",
    "w=1250\n",
    "crop_img1 = img[y:y+h, x:x+w] # 0:500 , 0:1250\n",
    "cv2.imshow(\"syndicate\", crop_img1)\n",
    "#cv2.imwrite(\"Syndicate Bank.jpg\", crop_img1)\n",
    "cv2.waitKey(0)\n",
    "cv2.destroyAllWindows()"
   ]
  },
  {
   "cell_type": "markdown",
   "id": "a7b8889b",
   "metadata": {},
   "source": [
    "##### ICICI Bank"
   ]
  },
  {
   "cell_type": "code",
   "execution_count": 21,
   "id": "59c0b6c8",
   "metadata": {},
   "outputs": [],
   "source": [
    "y=550\n",
    "x=0\n",
    "h=500\n",
    "w=2500\n",
    "crop_img2 = img[y:y+h, x:x+w] # 500:1050 , 0:2500\n",
    "cv2.imshow(\"icici\", crop_img2)\n",
    "#cv2.imwrite(\"ICICI Bank.jpg\", crop_img2)\n",
    "cv2.waitKey(0)\n",
    "cv2.destroyAllWindows()"
   ]
  },
  {
   "cell_type": "markdown",
   "id": "58aa4af2",
   "metadata": {},
   "source": [
    "##### Canara Bank"
   ]
  },
  {
   "cell_type": "code",
   "execution_count": 10,
   "id": "95b7b1d7",
   "metadata": {},
   "outputs": [],
   "source": [
    "y=1130\n",
    "x=0\n",
    "h=450\n",
    "w=3750\n",
    "crop_img3 = img[y:y+h, x:x+w] # 1100:1650 , 0:3750\n",
    "cv2.imshow(\"canara\", crop_img3)\n",
    "#cv2.imwrite(\"Canara Bank.jpg\", crop_img3)\n",
    "cv2.waitKey(0)\n",
    "cv2.destroyAllWindows()"
   ]
  },
  {
   "cell_type": "markdown",
   "id": "0838684a",
   "metadata": {},
   "source": [
    "##### Axis Bank"
   ]
  },
  {
   "cell_type": "code",
   "execution_count": 11,
   "id": "d2a341bc",
   "metadata": {},
   "outputs": [],
   "source": [
    "y=1710\n",
    "x=0\n",
    "h=430\n",
    "w=5000\n",
    "crop_img4 = img[y:y+h, x:x+w] # 1750:2200 , 0:5000\n",
    "cv2.imshow(\"Axis\", crop_img4)\n",
    "#cv2.imwrite(\"Axis Bank.jpg\", crop_img4)\n",
    "cv2.waitKey(0)\n",
    "cv2.destroyAllWindows()"
   ]
  },
  {
   "cell_type": "markdown",
   "id": "07fc1df4",
   "metadata": {},
   "source": [
    "#### Reading the splitted images"
   ]
  },
  {
   "cell_type": "code",
   "execution_count": 13,
   "id": "6f0c6f65",
   "metadata": {},
   "outputs": [],
   "source": [
    "mylist = [sample,syndicate,icici,Canara,Axis]\n",
    "for i in mylist:\n",
    "    cv2.imshow('image',i)\n",
    "    cv2.waitKey(0)\n",
    "    cv2.destroyAllWindows()"
   ]
  },
  {
   "cell_type": "markdown",
   "id": "79a4b379",
   "metadata": {},
   "source": [
    "#### Code"
   ]
  },
  {
   "cell_type": "code",
   "execution_count": 12,
   "id": "0a4efeab",
   "metadata": {},
   "outputs": [],
   "source": [
    "sample= cv2.imread('Sample_Image.jpg')\n",
    "cv2.imshow(\"Sample_Image.jpg\",sample)\n",
    "cv2.waitKey(0)\n",
    "cv2.destroyAllWindows()\n",
    "\n",
    "syndicate= cv2.imread('Syndicate Bank.jpg')\n",
    "cv2.imshow(\"Syndicate Bank\",syndicate)\n",
    "cv2.waitKey(0)\n",
    "cv2.destroyAllWindows()\n",
    "\n",
    "icici= cv2.imread('ICICI Bank.jpg')\n",
    "cv2.imshow(\"ICICI Bank\",icici)\n",
    "cv2.waitKey(0)\n",
    "cv2.destroyAllWindows()\n",
    "\n",
    "Canara= cv2.imread('Canara Bank.jpg')\n",
    "cv2.imshow(\"Canara Bank\",Canara)\n",
    "cv2.waitKey(0)\n",
    "cv2.destroyAllWindows()\n",
    "\n",
    "Axis= cv2.imread('Axis Bank.jpg')\n",
    "cv2.imshow(\"Axis Bank\",Axis)\n",
    "cv2.waitKey(0)\n",
    "cv2.destroyAllWindows()"
   ]
  },
  {
   "cell_type": "code",
   "execution_count": null,
   "id": "b1758557",
   "metadata": {},
   "outputs": [],
   "source": []
  },
  {
   "cell_type": "markdown",
   "id": "bde9dbf0",
   "metadata": {},
   "source": [
    "#### Creating detector"
   ]
  },
  {
   "cell_type": "raw",
   "id": "c72fde04",
   "metadata": {},
   "source": [
    "# Creating detector ie, ORB others like shift and surf are not free to use we need to get a licence for them\n",
    "# ORB is basically a fusion of FAST keypoint detector and BRIEF descriptor with many modifications to enhance the             performance."
   ]
  },
  {
   "cell_type": "markdown",
   "id": "9c9e651e",
   "metadata": {},
   "source": [
    "#### ORB (Oriented FAST and Rotated BRIEF) "
   ]
  },
  {
   "cell_type": "code",
   "execution_count": 14,
   "id": "a3d6e74a",
   "metadata": {},
   "outputs": [],
   "source": [
    "#### 0riginal cheque Image\n",
    "orb = cv2.ORB_create(5000)\n",
    "kp1 , desc1 = orb.detectAndCompute(imgTest_grey,None)# Gave mask as None\n",
    "impKp1 = cv2.drawKeypoints(imgTest_grey,kp1,None)\n",
    "\n",
    "cv2.imshow('Test image',imgTest_grey)\n",
    "cv2.imshow('Key Points',impKp1)\n",
    "cv2.waitKey(0)\n",
    "cv2.destroyAllWindows()"
   ]
  },
  {
   "cell_type": "code",
   "execution_count": 15,
   "id": "31c8e9cd",
   "metadata": {},
   "outputs": [],
   "source": [
    "###Matching Key Points with each cheque individually\n",
    "myPicList =['Syndicate Bank.jpg','ICICI Bank.jpg','Canara Bank.jpg','Axis Bank.jpg']\n",
    "for i,j in enumerate(myPicList):\n",
    "    imag = cv2.imread(j)\n",
    "    orb = cv2.ORB_create(1000)\n",
    "    kp1 , desc1 = orb.detectAndCompute(imag,None)# Gave mask as None\n",
    "    impKp1 = cv2.drawKeypoints(imag,kp1,None)\n",
    "    \n",
    "    cv2.imshow(j,imag)\n",
    "    cv2.imshow('Key Points',impKp1)\n",
    "    img = cv2.resize(img,(w//3,h//3))\n",
    "    cv2.waitKey(0)\n",
    "    cv2.destroyAllWindows()"
   ]
  },
  {
   "cell_type": "code",
   "execution_count": null,
   "id": "61076082",
   "metadata": {},
   "outputs": [],
   "source": []
  },
  {
   "cell_type": "raw",
   "id": "50268cc6",
   "metadata": {},
   "source": [
    "# we need to define the features we wanted\n",
    "# kp- key points are the unique point for our image\n",
    "# desc - these are the representation of the key point that our computer can understand them"
   ]
  },
  {
   "cell_type": "code",
   "execution_count": 206,
   "id": "3b0b07ea",
   "metadata": {},
   "outputs": [],
   "source": [
    "test='cheque-sample.jpg'\n",
    "refr='cheque-sample.jpg'\n",
    "image = cv2.imread('cheque-sample.jpg')"
   ]
  },
  {
   "cell_type": "markdown",
   "id": "25edc002",
   "metadata": {},
   "source": [
    "#### Detecting and Matching Key Points bw Source and Refrence"
   ]
  },
  {
   "cell_type": "code",
   "execution_count": null,
   "id": "30c00cda",
   "metadata": {},
   "outputs": [],
   "source": []
  },
  {
   "cell_type": "code",
   "execution_count": 16,
   "id": "42b9059a",
   "metadata": {},
   "outputs": [],
   "source": [
    "### It tries to find relation bw source and refrence points \n",
    "per=25\n",
    "h,w,c   = sample.shape\n",
    "myPicList =['Syndicate Bank.jpg','ICICI Bank.jpg','Canara Bank.jpg','Axis Bank.jpg']\n",
    "for i,j in enumerate(myPicList):\n",
    "    img = cv2.imread(j)\n",
    "    #img = cv2.resize(img,(w//3,h//3))\n",
    "    cv2.imshow(j,img)\n",
    "    cv2.waitKey(0)\n",
    "    cv2.destroyAllWindows()\n",
    "    \n",
    "    kp2 , desc2= orb.detectAndCompute(img,None)\n",
    "    bf = cv2.BFMatcher(cv2.NORM_HAMMING)\n",
    "    matches = bf.match(desc2,desc1)\n",
    "    \n",
    "    #matches.sort(key= lambda x: x.distance)\n",
    "    good = matches[:int(len(matches)*(per/100))]\n",
    "    imgMatch = cv2.drawMatches(img,kp2,imgTest,kp1,good[:100],None)\n",
    "    #imgMatch = cv2.resize(imgMatch,(w//3,h//3))\n",
    "    cv2.imshow(j,imgMatch)\n",
    "    \n",
    "    \n",
    "    #srcPoint = np.float32([kp2[m.refIdx].pt for m in good]).reshape(-1,1,2)\n",
    "    #dstPoint = np.float32([kp1[m.testIdx].pt for m in good]).reshape(-1,1,2)\n",
    "    \n",
    "    #M,_ = cv2.findHomography(srcPoint,dstPoint,cv2.RANSAC,5.0)\n",
    "    #imgscan = cv2.warpPerspective(img,M,(w,h))\n",
    "    #imgscan = cv2.resize(imgscan,(w//2,h//2))\n",
    "    #cv2.imshow(j,imgscan)\n",
    "    \n",
    "    \n",
    "    cv2.waitKey()\n",
    "    cv2.destroyAllWindows()"
   ]
  },
  {
   "cell_type": "raw",
   "id": "f1b3c3f4",
   "metadata": {},
   "source": [
    "# bf - brutte force matcher\n",
    "# lambda helps us to map all the matches value based out by distance ( lower the distance better the match) good matches at   the very beggining and bad one at the end \n",
    "\n",
    "# we can extract how many good matches we wanted \n",
    "# next we have to find all the source point and destination point to find the relationship bw the two\n",
    "# finding these ralationshp called as Homography\n",
    "# we used matrix to find the bird's eye view/warpPerspective of image\n",
    "\n",
    "# since our data has aligned correctly we dont need to find the relationship bw the souce point and destiny point "
   ]
  },
  {
   "cell_type": "code",
   "execution_count": null,
   "id": "2db409fd",
   "metadata": {},
   "outputs": [],
   "source": []
  },
  {
   "cell_type": "markdown",
   "id": "f2bd8638",
   "metadata": {},
   "source": [
    "#### Extract the regions of Interest"
   ]
  },
  {
   "cell_type": "code",
   "execution_count": null,
   "id": "0e416c7e",
   "metadata": {},
   "outputs": [],
   "source": [
    "roi = [[50,60,300,50],'text','name']\n",
    "       # x,y,x+w,y+h"
   ]
  },
  {
   "cell_type": "raw",
   "id": "6147b442",
   "metadata": {},
   "source": [
    "# we need the bounding box , type of it , name of it\n",
    "# open paint we can find the pixel of our ROI\n",
    "# insted of doing them we can create a code to find them advance level of input where we need to give the type and           description of it after hit \"s\" to complete and extract roi"
   ]
  },
  {
   "cell_type": "markdown",
   "id": "6f22b2eb",
   "metadata": {},
   "source": [
    "#### Extracting Region of Intrest for Refrence Cheque"
   ]
  },
  {
   "cell_type": "code",
   "execution_count": null,
   "id": "01d5ac71",
   "metadata": {},
   "outputs": [],
   "source": [
    "scale    = 0.5\n",
    "circles  = []\n",
    "counter  = 0\n",
    "counter2 = 0\n",
    "point1   = []\n",
    "point2   = []\n",
    "mypoints = []\n",
    "mycolor  = []\n",
    "\n",
    "def mousePoints(event,x,y,flags,params):\n",
    "    global counter,point1,point2,counter2,circles,mycolor\n",
    "    if event == cv2.EVENT_LBUTTONDOWN:\n",
    "        if counter == 0:\n",
    "            point1=int(x//scale),int(y//scale);\n",
    "            counter += 1\n",
    "            mycolor = (random.randint(0,2)*200,random.randint(0,2)*200,random.randint(0,2)*200)\n",
    "        elif counter == 1:\n",
    "            point2=int(x//scale),int(y//scale)\n",
    "            type = input('enter Type :')\n",
    "            name = input('enter Name :')\n",
    "            mypoints.append([point1,point2,type,name])\n",
    "            counter=0\n",
    "        circles.append([x,y,mycolor])\n",
    "        counter2 += 1\n",
    "        \n",
    "img = cv2.imread('Sample_Image.jpg')\n",
    "#img = cv2.resize(img,(0,0),None,scale,scale)\n",
    "\n",
    "while True:\n",
    "    # To Display Points\n",
    "    for x,y,color in circles:\n",
    "        cv2.circle(img,(x,y),3,color,cv2.FILLED)\n",
    "    cv2.imshow(\"Original Image\",img)\n",
    "    #cv2.waitKey(0)\n",
    "    #cv2.destroyAllWindows()\n",
    "    cv2.setMouseCallback(\"Original Image\",mousePoints)\n",
    "    if cv2.waitKey(1) & 0xFF == ord('s'):\n",
    "        print(mypoints)\n",
    "        break"
   ]
  },
  {
   "cell_type": "markdown",
   "id": "4b9dd0e3",
   "metadata": {},
   "source": [
    "#### Getting Region of Intrest for all the cheques"
   ]
  },
  {
   "cell_type": "code",
   "execution_count": 3,
   "id": "0069dbe4",
   "metadata": {},
   "outputs": [
    {
     "name": "stdout",
     "output_type": "stream",
     "text": [
      "enter Type :text\n",
      "enter Name :date\n",
      "enter Type :text\n",
      "enter Name :amount\n",
      "enter Type :text\n",
      "enter Name :name\n",
      "[[(854, 32), (1180, 76), 'text', 'date'], [(906, 196), (1134, 242), 'text', 'amount'], [(684, 282), (886, 316), 'text', 'name']]\n",
      "enter Type :text\n",
      "enter Name :date\n",
      "enter Type :text\n",
      "enter Name :amount\n",
      "enter Type :text\n",
      "enter Name :bank\n",
      "[[(854, 32), (1180, 76), 'text', 'date'], [(906, 196), (1134, 242), 'text', 'amount'], [(684, 282), (886, 316), 'text', 'name'], [(902, 80), (1184, 124), 'text', 'date'], [(922, 256), (1154, 304), 'text', 'amount'], [(770, 344), (902, 372), 'text', 'bank']]\n",
      "enter Type :text\n",
      "enter Name :date\n",
      "enter Type :text\n",
      "enter Name :amount\n",
      "enter Type :text\n",
      "enter Name :name\n",
      "[[(854, 32), (1180, 76), 'text', 'date'], [(906, 196), (1134, 242), 'text', 'amount'], [(684, 282), (886, 316), 'text', 'name'], [(902, 80), (1184, 124), 'text', 'date'], [(922, 256), (1154, 304), 'text', 'amount'], [(770, 344), (902, 372), 'text', 'bank'], [(478, 126), (908, 66), 'text', 'date'], [(908, 228), (1150, 288), 'text', 'amount'], [(718, 380), (878, 414), 'text', 'name']]\n",
      "enter Type :text\n",
      "enter Name :date\n",
      "enter Type :text\n",
      "enter Name :amount\n",
      "enter Type :text\n",
      "enter Name :name\n",
      "[[(854, 32), (1180, 76), 'text', 'date'], [(906, 196), (1134, 242), 'text', 'amount'], [(684, 282), (886, 316), 'text', 'name'], [(902, 80), (1184, 124), 'text', 'date'], [(922, 256), (1154, 304), 'text', 'amount'], [(770, 344), (902, 372), 'text', 'bank'], [(478, 126), (908, 66), 'text', 'date'], [(908, 228), (1150, 288), 'text', 'amount'], [(718, 380), (878, 414), 'text', 'name'], [(890, 32), (1158, 82), 'text', 'date'], [(882, 210), (1110, 260), 'text', 'amount'], [(660, 308), (774, 348), 'text', 'name']]\n"
     ]
    }
   ],
   "source": [
    "scale    = 0.5\n",
    "circles  = []\n",
    "counter  = 0\n",
    "counter2 = 0\n",
    "point1   = []\n",
    "point2   = []\n",
    "mypoints = []\n",
    "mycolor  = []\n",
    "\n",
    "def mousePoints(event,x,y,flags,params):\n",
    "    global counter,point1,point2,counter2,circles,mycolor\n",
    "    if event == cv2.EVENT_LBUTTONDOWN:\n",
    "        if counter == 0:\n",
    "            point1=int(x//scale),int(y//scale);\n",
    "            counter += 1\n",
    "            mycolor = (random.randint(0,2)*200,random.randint(0,2)*200,random.randint(0,2)*200)\n",
    "        elif counter == 1:\n",
    "            point2=int(x//scale),int(y//scale)\n",
    "            type = input('enter Type :')\n",
    "            name = input('enter Name :')\n",
    "            mypoints.append([point1,point2,type,name])\n",
    "            counter=0\n",
    "        circles.append([x,y,mycolor])\n",
    "        counter2 += 1\n",
    "        \n",
    "lst =['Syndicate Bank.jpg','ICICI Bank.jpg','Canara Bank.jpg','Axis Bank.jpg']\n",
    "for i in lst:\n",
    "    img = cv2.imread(i)\n",
    "    img = cv2.resize(img,(0,0),None,scale,scale)\n",
    "\n",
    "    while True:\n",
    "        # To Display Points\n",
    "        for x,y,color in circles:\n",
    "            cv2.circle(img,(x,y),3,color,cv2.FILLED)\n",
    "        cv2.imshow(\"Original Image\",img)\n",
    "        #cv2.waitKey(0)\n",
    "        #cv2.destroyAllWindows()\n",
    "        cv2.setMouseCallback(\"Original Image\",mousePoints)\n",
    "        if cv2.waitKey(1) & 0xFF == ord('s'):\n",
    "            print(mypoints)\n",
    "            break"
   ]
  },
  {
   "cell_type": "markdown",
   "id": "c88a145c",
   "metadata": {},
   "source": [
    "#### Extracted ROI"
   ]
  },
  {
   "cell_type": "code",
   "execution_count": 17,
   "id": "cc48af02",
   "metadata": {},
   "outputs": [],
   "source": [
    "roi =[[(830, 34), (1188, 76), 'text', 'date'], \n",
    "       [(840, 198), (1150, 246), 'text', 'amount'],\n",
    "       [(680, 284), (898, 322), 'text', 'Bank name']]"
   ]
  },
  {
   "cell_type": "code",
   "execution_count": 164,
   "id": "eb28bbab",
   "metadata": {},
   "outputs": [],
   "source": [
    "w,h,c = img.shape \n",
    "myPicList =['Syndicate Bank.jpg','ICICI Bank.jpg','Canara Bank.jpg','Axis Bank.jpg']\n",
    "for i,j in enumerate(myPicList):\n",
    "    img = cv2.imread(j)\n",
    "    \n",
    "    \n",
    "    cv2.imshow(j,img)\n",
    "    cv2.waitKey(0)\n",
    "    cv2.destroyAllWindows()\n",
    "    \n",
    "    imgshow = img.copy()\n",
    "    imgMask = np.zeros_like(imgshow)\n",
    "    \n",
    "    for x,r in enumerate(roi):\n",
    "        \n",
    "        cv2.rectangle(imgMask,(r[0][0],r[0][1]),(r[1][0],r[1][1]),(0,225,0),cv2.FILLED)\n",
    "        imgshow = cv2.addWeighted(imgshow,0.99,imgMask,0.1,0)\n",
    "        \n",
    "        imgcrop = img[r[0][1]:r[1][1],r[0][0]:r[1][0]]\n",
    "        cv2.imshow(str(x),imgcrop)\n",
    "    \n",
    "    imgshow = cv2.resize(imgshow,(w//3,h//3))\n",
    "    cv2.imshow(j+\"2\",imgshow)"
   ]
  },
  {
   "cell_type": "markdown",
   "id": "5d2b11b1",
   "metadata": {},
   "source": [
    "#### Extracting data from Image"
   ]
  },
  {
   "cell_type": "code",
   "execution_count": 18,
   "id": "76b1325c",
   "metadata": {},
   "outputs": [
    {
     "name": "stdout",
     "output_type": "stream",
     "text": [
      " Extracting data from cheque Syndicate Bank.jpg\n",
      "date : So OO BOD\n",
      "\n",
      "amount : \n",
      "Bank name : SYNDICATE BANK\n",
      "\n",
      " Extracting data from cheque ICICI Bank.jpg\n",
      "date : \n",
      "amount : | & | 56,476.00\n",
      "\n",
      "Bank name : ICICI BANK\n",
      "\n",
      " Extracting data from cheque Canara Bank.jpg\n",
      "date : \n",
      "amount : Svat 126,888.00\n",
      "\n",
      "Bank name : \n",
      " Extracting data from cheque Axis Bank.jpg\n",
      "date : DATE\n",
      "Raw 06.09.2019\n",
      "\n",
      "amount : = 130,354.70\n",
      "\n",
      "\n",
      "Bank name : vic PANY\n",
      "\n",
      "['So OO BOD\\n', '', 'SYNDICATE BANK\\n', '', '| & | 56,476.00\\n', 'ICICI BANK\\n', '', 'Svat 126,888.00\\n', '', 'DATE\\nRaw 06.09.2019\\n', '= 130,354.70\\n\\n', 'vic PANY\\n']\n"
     ]
    }
   ],
   "source": [
    "w,h,c = img.shape \n",
    "myData = []\n",
    "myPicList =['Syndicate Bank.jpg','ICICI Bank.jpg','Canara Bank.jpg','Axis Bank.jpg']\n",
    "for i,j in enumerate(myPicList):\n",
    "    img = cv2.imread(j)\n",
    "    \n",
    "    \n",
    "    cv2.imshow(j,img)\n",
    "    cv2.waitKey(0)\n",
    "    cv2.destroyAllWindows()\n",
    "    \n",
    "    imgshow = img.copy()\n",
    "    imgMask = np.zeros_like(imgshow)\n",
    "    \n",
    "    print(f' Extracting data from cheque {j}')\n",
    "    \n",
    "    \n",
    "    for x,r in enumerate(roi):\n",
    "        \n",
    "        cv2.rectangle(imgMask,(r[0][0],r[0][1]),(r[1][0],r[1][1]),(0,225,0),cv2.FILLED)\n",
    "        imgshow = cv2.addWeighted(imgshow,0.99,imgMask,0.1,0)\n",
    "        \n",
    "        imgcrop = img[r[0][1]:r[1][1],r[0][0]:r[1][0]]\n",
    "        #print(imgcrop)\n",
    "        cv2.imshow(str(x),imgcrop)\n",
    "        \n",
    "        print(f'{r[3]} : {pytesseract.image_to_string(imgcrop)}')\n",
    "        myData.append(pytesseract.image_to_string(imgcrop))\n",
    "    \n",
    "    imgshow = cv2.resize(imgshow,(w//3,h//3))\n",
    "    cv2.imshow(j+\"2\",imgshow)\n",
    "print(myData)"
   ]
  },
  {
   "cell_type": "markdown",
   "id": "b58b7226",
   "metadata": {},
   "source": [
    "#### Extracting Data using Open CV"
   ]
  },
  {
   "cell_type": "markdown",
   "id": "8ee041e6",
   "metadata": {},
   "source": [
    "#### Date cropped"
   ]
  },
  {
   "cell_type": "code",
   "execution_count": 62,
   "id": "7c78782b",
   "metadata": {},
   "outputs": [
    {
     "name": "stdout",
     "output_type": "stream",
     "text": [
      "['30-01-2019\\n\\n> (DY miysnyseyE\\n\\nanh wl or Bearer\\n\\n', 'VALID FOR THREE MONTHS ONLY.\\n5-Sep-2019\\nDDMM.Y¥Y ¥ Y¥ YY.\\n\\nOr Bearer\\n\\n', ' onlv from the date of instrument\\n\\n| 03-09-2019 |\\nDDMMYYY/Y\\n\\n‘al aes at Or Bearer\\n', '06.09.2019 :\\nDyiDy Me MN Ni ONG yy\\n\\n_ OR BEARER / UI Xd bY\\n']\n"
     ]
    }
   ],
   "source": [
    "date=[]\n",
    "mylst = ['Syndicate Bank.jpg','ICICI Bank.jpg','Canara Bank.jpg','Axis Bank.jpg']\n",
    "for i in mylst:\n",
    "    img1 = cv2.imread(i)\n",
    "    roi = img1[0 : 150, 900 : 1200] \n",
    "    cv2.imshow(i,roi)\n",
    "    \n",
    "    date.append(pytesseract.image_to_string(roi))\n",
    "    \n",
    "    cv2.waitKey(0)\n",
    "    cv2.destroyAllWindows()\n",
    "print(date)"
   ]
  },
  {
   "cell_type": "markdown",
   "id": "332a682d",
   "metadata": {},
   "source": [
    "#### Cheque Amount"
   ]
  },
  {
   "cell_type": "code",
   "execution_count": 104,
   "id": "253f7a3f",
   "metadata": {},
   "outputs": [
    {
     "name": "stdout",
     "output_type": "stream",
     "text": [
      "['', 'Herp\\n\\nz 56,476.00\\n\\n', '<= | 126,888.00\\n\\n', '']\n"
     ]
    }
   ],
   "source": [
    "amount=[]\n",
    "mylst = ['Syndicate Bank.jpg','ICICI Bank.jpg','Canara Bank.jpg','Axis Bank.jpg']\n",
    "for i in mylst:\n",
    "    img1 = cv2.imread(i)\n",
    "    roi = img1[150 : 300, 850 : 1200]\n",
    "    cv2.imshow(i,roi)\n",
    "    \n",
    "    amount.append(pytesseract.image_to_string(roi))\n",
    "    \n",
    "    cv2.waitKey(0)\n",
    "    cv2.destroyAllWindows()\n",
    "print(amount)"
   ]
  },
  {
   "cell_type": "markdown",
   "id": "94be64c2",
   "metadata": {},
   "source": [
    "#### Cheque Amount Resized"
   ]
  },
  {
   "cell_type": "code",
   "execution_count": 27,
   "id": "92026b49",
   "metadata": {},
   "outputs": [
    {
     "name": "stdout",
     "output_type": "stream",
     "text": [
      "['', 'SESSSSS SS SRY\\n56, Whe 00\\n', '126,888.00\\n', '']\n"
     ]
    }
   ],
   "source": [
    "amount=[]\n",
    "mylst = ['Syndicate Bank.jpg','ICICI Bank.jpg','Canara Bank.jpg','Axis Bank.jpg']\n",
    "for i in mylst:\n",
    "    img1 = cv2.imread(i)\n",
    "    roi = img1[190 : 280, 900 : 1100]\n",
    "    cv2.imshow(i,roi)\n",
    "    \n",
    "    amount.append(pytesseract.image_to_string(roi))\n",
    "    \n",
    "    cv2.waitKey(0)\n",
    "    cv2.destroyAllWindows()\n",
    "print(amount)"
   ]
  },
  {
   "cell_type": "markdown",
   "id": "ebfe3198",
   "metadata": {},
   "source": [
    "#### Bank Name"
   ]
  },
  {
   "cell_type": "code",
   "execution_count": 28,
   "id": "4e14d765",
   "metadata": {},
   "outputs": [
    {
     "name": "stdout",
     "output_type": "stream",
     "text": [
      "['SYNDICATE BANK\\n', 'ICICI BANK\\n\\nUNT\\nmited in india\\n', 'CANARA BANK\\n', 'AXIS BANK\\n']\n"
     ]
    }
   ],
   "source": [
    "bank_name=[]\n",
    "mylst = ['Syndicate Bank.jpg','ICICI Bank.jpg','Canara Bank.jpg','Axis Bank.jpg']\n",
    "for i in mylst:\n",
    "    img1 = cv2.imread(i)\n",
    "    roi = img1[260 : 380,670 : 900]\n",
    "    cv2.imshow(i,roi)\n",
    "    \n",
    "    bank_name.append(pytesseract.image_to_string(roi))\n",
    "    \n",
    "    cv2.waitKey(0)\n",
    "    cv2.destroyAllWindows()\n",
    "print(bank_name)"
   ]
  },
  {
   "cell_type": "markdown",
   "id": "1b74b8c5",
   "metadata": {},
   "source": [
    "#### Cleaning Anomalies for final solution"
   ]
  },
  {
   "cell_type": "code",
   "execution_count": 44,
   "id": "5641361a",
   "metadata": {},
   "outputs": [
    {
     "name": "stdout",
     "output_type": "stream",
     "text": [
      "['syndicate bank\\n', 'icici bank\\n\\nunt\\nmited in india\\n', 'canara bank\\n', 'axis bank\\n']\n"
     ]
    }
   ],
   "source": [
    "a=[]\n",
    "for i in bank_name:\n",
    "    b=i.lower()\n",
    "    b.split('\\n')\n",
    "    a.append(b)\n",
    "print(a)"
   ]
  },
  {
   "cell_type": "code",
   "execution_count": 53,
   "id": "ab235eb4",
   "metadata": {},
   "outputs": [],
   "source": [
    "#### bank name ####\n",
    "l=[]\n",
    "for i in bank_name:\n",
    "    a=i.strip('\\n')\n",
    "    l.append(a)"
   ]
  },
  {
   "cell_type": "code",
   "execution_count": 56,
   "id": "9b5fa84f",
   "metadata": {},
   "outputs": [],
   "source": [
    "l=[]\n",
    "for i in bank_name:\n",
    "    a=i.strip('\\n\\nUNT\\nmited in india')\n",
    "    l.append(a)"
   ]
  },
  {
   "cell_type": "code",
   "execution_count": 60,
   "id": "0e6b92fa",
   "metadata": {},
   "outputs": [
    {
     "name": "stdout",
     "output_type": "stream",
     "text": [
      "['syndicate bank', 'icici bank', 'canara bank', 'axis bank']\n"
     ]
    }
   ],
   "source": [
    "name=[]\n",
    "for i in l:\n",
    "    q=i.lower()\n",
    "    name.append(q)\n",
    "print(name)"
   ]
  },
  {
   "cell_type": "code",
   "execution_count": 61,
   "id": "78b126ab",
   "metadata": {},
   "outputs": [
    {
     "data": {
      "text/plain": [
       "['syndicate bank', 'icici bank', 'canara bank', 'axis bank']"
      ]
     },
     "execution_count": 61,
     "metadata": {},
     "output_type": "execute_result"
    }
   ],
   "source": [
    "name"
   ]
  },
  {
   "cell_type": "code",
   "execution_count": 85,
   "id": "0146eba9",
   "metadata": {},
   "outputs": [],
   "source": [
    "###### date cleaning\n",
    "date1=[]\n",
    "for i in date:\n",
    "    a=i.strip('\\n\\n> (DY miysnyseyE\\n\\nanh wl or Bearer\\n\\n''VALID FOR THREE MONTHS ONLY.\\n\\nDDMM.Y¥Y ¥ Y¥v from the date of instrument\\n\\n| |\\nDDMMYYY/Y\\n\\n‘al aes at :\\nDyiDy Me MN Ni ONG yy\\n\\n_ OR BEARER / UI Xd b')\n",
    "    date1.append(a)"
   ]
  },
  {
   "cell_type": "code",
   "execution_count": 89,
   "id": "57d08529",
   "metadata": {},
   "outputs": [],
   "source": [
    "date1=l"
   ]
  },
  {
   "cell_type": "code",
   "execution_count": 90,
   "id": "0b2b35e7",
   "metadata": {},
   "outputs": [
    {
     "data": {
      "text/plain": [
       "['30-01-2019', '5-Sep-2019', '03-09-2019', '06.09.2019']"
      ]
     },
     "execution_count": 90,
     "metadata": {},
     "output_type": "execute_result"
    }
   ],
   "source": [
    "date1"
   ]
  },
  {
   "cell_type": "code",
   "execution_count": 93,
   "id": "fe84e37c",
   "metadata": {},
   "outputs": [
    {
     "data": {
      "text/plain": [
       "['30-01-2019', '5-Sep-2019', '03-09-2019', '06.09.2019']"
      ]
     },
     "execution_count": 93,
     "metadata": {},
     "output_type": "execute_result"
    }
   ],
   "source": [
    "date1"
   ]
  },
  {
   "cell_type": "code",
   "execution_count": 94,
   "id": "cf0453fe",
   "metadata": {},
   "outputs": [
    {
     "data": {
      "text/plain": [
       "['syndicate bank', 'icici bank', 'canara bank', 'axis bank']"
      ]
     },
     "execution_count": 94,
     "metadata": {},
     "output_type": "execute_result"
    }
   ],
   "source": [
    "name"
   ]
  },
  {
   "cell_type": "code",
   "execution_count": 102,
   "id": "2a51d8f6",
   "metadata": {},
   "outputs": [
    {
     "data": {
      "text/html": [
       "<div>\n",
       "<style scoped>\n",
       "    .dataframe tbody tr th:only-of-type {\n",
       "        vertical-align: middle;\n",
       "    }\n",
       "\n",
       "    .dataframe tbody tr th {\n",
       "        vertical-align: top;\n",
       "    }\n",
       "\n",
       "    .dataframe thead th {\n",
       "        text-align: right;\n",
       "    }\n",
       "</style>\n",
       "<table border=\"1\" class=\"dataframe\">\n",
       "  <thead>\n",
       "    <tr style=\"text-align: right;\">\n",
       "      <th></th>\n",
       "      <th>Bank Name</th>\n",
       "      <th>Cheque Date</th>\n",
       "    </tr>\n",
       "  </thead>\n",
       "  <tbody>\n",
       "    <tr>\n",
       "      <th>0</th>\n",
       "      <td>syndicate bank</td>\n",
       "      <td>30-01-2019</td>\n",
       "    </tr>\n",
       "    <tr>\n",
       "      <th>1</th>\n",
       "      <td>icici bank</td>\n",
       "      <td>5-Sep-2019</td>\n",
       "    </tr>\n",
       "    <tr>\n",
       "      <th>2</th>\n",
       "      <td>canara bank</td>\n",
       "      <td>03-09-2019</td>\n",
       "    </tr>\n",
       "    <tr>\n",
       "      <th>3</th>\n",
       "      <td>axis bank</td>\n",
       "      <td>06.09.2019</td>\n",
       "    </tr>\n",
       "  </tbody>\n",
       "</table>\n",
       "</div>"
      ],
      "text/plain": [
       "        Bank Name Cheque Date\n",
       "0  syndicate bank  30-01-2019\n",
       "1      icici bank  5-Sep-2019\n",
       "2     canara bank  03-09-2019\n",
       "3       axis bank  06.09.2019"
      ]
     },
     "execution_count": 102,
     "metadata": {},
     "output_type": "execute_result"
    }
   ],
   "source": [
    "df=pd.DataFrame([name,date1],index=['Bank Name',\"Cheque Date\"]).T\n",
    "df"
   ]
  },
  {
   "cell_type": "code",
   "execution_count": 105,
   "id": "363b97de",
   "metadata": {},
   "outputs": [],
   "source": [
    "df.to_excel('final_output.xlsx')"
   ]
  },
  {
   "cell_type": "markdown",
   "id": "99b6121f",
   "metadata": {},
   "source": [
    "#### Sharing reference links for tesseract and Opencv"
   ]
  },
  {
   "cell_type": "raw",
   "id": "94830871",
   "metadata": {},
   "source": [
    "https://www.youtube.com/watch?v=W9oRTI6mLnU\n",
    "https://www.youtube.com/watch?v=cUOcY9ZpKxw\n",
    "https://www.youtube.com/watch?v=GiVVCu7l34A\n",
    "https://www.youtube.com/watch?v=6DjFscX4I_c\n",
    "https://www.youtube.com/watch?v=N1AIB2buJDw\n",
    "https://learnopencv.com/deep-learning-based-text-recognition-ocr-using-tesseract-and-opencv/\n",
    "https://neuraspike.com/blog/split-and-manipulate-pixels-opencv/\n",
    "https://www.analyticsvidhya.com/blog/2020/05/build-your-own-ocr-google-tesseract-opencv/"
   ]
  },
  {
   "cell_type": "code",
   "execution_count": null,
   "id": "8fb6e630",
   "metadata": {},
   "outputs": [],
   "source": []
  }
 ],
 "metadata": {
  "kernelspec": {
   "display_name": "Python 3 (ipykernel)",
   "language": "python",
   "name": "python3"
  },
  "language_info": {
   "codemirror_mode": {
    "name": "ipython",
    "version": 3
   },
   "file_extension": ".py",
   "mimetype": "text/x-python",
   "name": "python",
   "nbconvert_exporter": "python",
   "pygments_lexer": "ipython3",
   "version": "3.9.13"
  }
 },
 "nbformat": 4,
 "nbformat_minor": 5
}
